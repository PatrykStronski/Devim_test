{
 "cells": [
  {
   "cell_type": "code",
   "execution_count": 2,
   "metadata": {},
   "outputs": [
    {
     "name": "stdout",
     "output_type": "stream",
     "text": [
      "['work_code', 'all_creds_count_all', 'delay_more_sum_all', 'mfo_cred_mean_sum_3lm', 'all_closed_creds_sum_ly', 'cred_sum_cc_ly', 'region', 'cred_max_overdue_max_ly', 'cred_sum_cc_all', 'mfo_last_days_all', 'order_id', 'all_closed_creds_sum_all', 'all_active_creds_sum_all', 'cred_max_overdue_max_3lm', 'cred_day_overdue_all_sum_all', 'cred_sum_overdue_cc_all', 'cred_sum_debt_all_all', 'mfo_closed_count_ly', 'bank_inqs_count_quarter', 'mfo_inqs_count_month', 'count_overdue_all_3lm', 'month_income', 'all_creds_count_lm']\n"
     ]
    },
    {
     "data": {
      "text/html": [
       "<div>\n",
       "<style scoped>\n",
       "    .dataframe tbody tr th:only-of-type {\n",
       "        vertical-align: middle;\n",
       "    }\n",
       "\n",
       "    .dataframe tbody tr th {\n",
       "        vertical-align: top;\n",
       "    }\n",
       "\n",
       "    .dataframe thead th {\n",
       "        text-align: right;\n",
       "    }\n",
       "</style>\n",
       "<table border=\"1\" class=\"dataframe\">\n",
       "  <thead>\n",
       "    <tr style=\"text-align: right;\">\n",
       "      <th></th>\n",
       "      <th>order_id</th>\n",
       "      <th>cred_sum_cc_all</th>\n",
       "      <th>mfo_inqs_count_month</th>\n",
       "      <th>all_closed_creds_sum_all</th>\n",
       "      <th>bank_inqs_count_quarter</th>\n",
       "      <th>cred_max_overdue_max_ly</th>\n",
       "      <th>all_active_creds_sum_all</th>\n",
       "      <th>mfo_last_days_all</th>\n",
       "      <th>cred_sum_cc_ly</th>\n",
       "      <th>cred_sum_debt_all_all</th>\n",
       "      <th>...</th>\n",
       "      <th>cred_max_overdue_max_3lm</th>\n",
       "      <th>mfo_closed_count_ly</th>\n",
       "      <th>cred_sum_overdue_cc_all</th>\n",
       "      <th>count_overdue_all_3lm</th>\n",
       "      <th>all_creds_count_lm</th>\n",
       "      <th>work_code</th>\n",
       "      <th>month_income</th>\n",
       "      <th>region</th>\n",
       "      <th>bad</th>\n",
       "      <th>approved</th>\n",
       "    </tr>\n",
       "  </thead>\n",
       "  <tbody>\n",
       "    <tr>\n",
       "      <th>8</th>\n",
       "      <td>5499365</td>\n",
       "      <td>50000.0</td>\n",
       "      <td>2</td>\n",
       "      <td>58500</td>\n",
       "      <td>14</td>\n",
       "      <td>0.00</td>\n",
       "      <td>38000</td>\n",
       "      <td>23</td>\n",
       "      <td>50000.0</td>\n",
       "      <td>38000.00</td>\n",
       "      <td>...</td>\n",
       "      <td>0.0</td>\n",
       "      <td>5</td>\n",
       "      <td>0.0</td>\n",
       "      <td>0</td>\n",
       "      <td>2</td>\n",
       "      <td>1</td>\n",
       "      <td>35000</td>\n",
       "      <td>4</td>\n",
       "      <td>0.0</td>\n",
       "      <td>1</td>\n",
       "    </tr>\n",
       "    <tr>\n",
       "      <th>9</th>\n",
       "      <td>5499397</td>\n",
       "      <td>44000.0</td>\n",
       "      <td>1</td>\n",
       "      <td>367842</td>\n",
       "      <td>3</td>\n",
       "      <td>24000.00</td>\n",
       "      <td>74695</td>\n",
       "      <td>8</td>\n",
       "      <td>0.0</td>\n",
       "      <td>75295.00</td>\n",
       "      <td>...</td>\n",
       "      <td>0.0</td>\n",
       "      <td>11</td>\n",
       "      <td>0.0</td>\n",
       "      <td>0</td>\n",
       "      <td>3</td>\n",
       "      <td>2</td>\n",
       "      <td>35000</td>\n",
       "      <td>61</td>\n",
       "      <td>1.0</td>\n",
       "      <td>1</td>\n",
       "    </tr>\n",
       "    <tr>\n",
       "      <th>10</th>\n",
       "      <td>5499407</td>\n",
       "      <td>0.0</td>\n",
       "      <td>1</td>\n",
       "      <td>44500</td>\n",
       "      <td>0</td>\n",
       "      <td>0.00</td>\n",
       "      <td>5000</td>\n",
       "      <td>29</td>\n",
       "      <td>0.0</td>\n",
       "      <td>5000.00</td>\n",
       "      <td>...</td>\n",
       "      <td>0.0</td>\n",
       "      <td>7</td>\n",
       "      <td>0.0</td>\n",
       "      <td>0</td>\n",
       "      <td>1</td>\n",
       "      <td>4</td>\n",
       "      <td>50000</td>\n",
       "      <td>32</td>\n",
       "      <td>0.0</td>\n",
       "      <td>1</td>\n",
       "    </tr>\n",
       "    <tr>\n",
       "      <th>12</th>\n",
       "      <td>5499448</td>\n",
       "      <td>81550.0</td>\n",
       "      <td>11</td>\n",
       "      <td>231604</td>\n",
       "      <td>5</td>\n",
       "      <td>0.00</td>\n",
       "      <td>272086</td>\n",
       "      <td>16</td>\n",
       "      <td>0.0</td>\n",
       "      <td>217493.70</td>\n",
       "      <td>...</td>\n",
       "      <td>0.0</td>\n",
       "      <td>4</td>\n",
       "      <td>0.0</td>\n",
       "      <td>0</td>\n",
       "      <td>4</td>\n",
       "      <td>5</td>\n",
       "      <td>35000</td>\n",
       "      <td>1</td>\n",
       "      <td>1.0</td>\n",
       "      <td>1</td>\n",
       "    </tr>\n",
       "    <tr>\n",
       "      <th>17</th>\n",
       "      <td>5499715</td>\n",
       "      <td>45001.0</td>\n",
       "      <td>0</td>\n",
       "      <td>107584</td>\n",
       "      <td>0</td>\n",
       "      <td>5975.24</td>\n",
       "      <td>267484</td>\n",
       "      <td>9999</td>\n",
       "      <td>1.0</td>\n",
       "      <td>244351.87</td>\n",
       "      <td>...</td>\n",
       "      <td>0.0</td>\n",
       "      <td>0</td>\n",
       "      <td>0.0</td>\n",
       "      <td>0</td>\n",
       "      <td>0</td>\n",
       "      <td>5</td>\n",
       "      <td>35000</td>\n",
       "      <td>78</td>\n",
       "      <td>0.0</td>\n",
       "      <td>1</td>\n",
       "    </tr>\n",
       "    <tr>\n",
       "      <th>18</th>\n",
       "      <td>5499796</td>\n",
       "      <td>35000.0</td>\n",
       "      <td>2</td>\n",
       "      <td>48437</td>\n",
       "      <td>8</td>\n",
       "      <td>0.00</td>\n",
       "      <td>0</td>\n",
       "      <td>48</td>\n",
       "      <td>35000.0</td>\n",
       "      <td>0.00</td>\n",
       "      <td>...</td>\n",
       "      <td>0.0</td>\n",
       "      <td>3</td>\n",
       "      <td>0.0</td>\n",
       "      <td>0</td>\n",
       "      <td>0</td>\n",
       "      <td>3</td>\n",
       "      <td>60000</td>\n",
       "      <td>39</td>\n",
       "      <td>0.0</td>\n",
       "      <td>1</td>\n",
       "    </tr>\n",
       "    <tr>\n",
       "      <th>27</th>\n",
       "      <td>5500052</td>\n",
       "      <td>3129.0</td>\n",
       "      <td>1</td>\n",
       "      <td>53700</td>\n",
       "      <td>0</td>\n",
       "      <td>0.00</td>\n",
       "      <td>66953</td>\n",
       "      <td>14</td>\n",
       "      <td>0.0</td>\n",
       "      <td>55164.40</td>\n",
       "      <td>...</td>\n",
       "      <td>0.0</td>\n",
       "      <td>7</td>\n",
       "      <td>0.0</td>\n",
       "      <td>0</td>\n",
       "      <td>1</td>\n",
       "      <td>3</td>\n",
       "      <td>20000</td>\n",
       "      <td>46</td>\n",
       "      <td>1.0</td>\n",
       "      <td>1</td>\n",
       "    </tr>\n",
       "    <tr>\n",
       "      <th>31</th>\n",
       "      <td>5500284</td>\n",
       "      <td>114120.0</td>\n",
       "      <td>0</td>\n",
       "      <td>400884</td>\n",
       "      <td>9</td>\n",
       "      <td>0.00</td>\n",
       "      <td>57200</td>\n",
       "      <td>2</td>\n",
       "      <td>0.0</td>\n",
       "      <td>56992.00</td>\n",
       "      <td>...</td>\n",
       "      <td>0.0</td>\n",
       "      <td>20</td>\n",
       "      <td>0.0</td>\n",
       "      <td>0</td>\n",
       "      <td>3</td>\n",
       "      <td>2</td>\n",
       "      <td>50000</td>\n",
       "      <td>71</td>\n",
       "      <td>0.0</td>\n",
       "      <td>1</td>\n",
       "    </tr>\n",
       "    <tr>\n",
       "      <th>35</th>\n",
       "      <td>5500368</td>\n",
       "      <td>764700.0</td>\n",
       "      <td>0</td>\n",
       "      <td>1320410</td>\n",
       "      <td>2</td>\n",
       "      <td>0.00</td>\n",
       "      <td>99300</td>\n",
       "      <td>7</td>\n",
       "      <td>200000.0</td>\n",
       "      <td>99300.00</td>\n",
       "      <td>...</td>\n",
       "      <td>0.0</td>\n",
       "      <td>6</td>\n",
       "      <td>0.0</td>\n",
       "      <td>0</td>\n",
       "      <td>1</td>\n",
       "      <td>1</td>\n",
       "      <td>50000</td>\n",
       "      <td>46</td>\n",
       "      <td>0.0</td>\n",
       "      <td>1</td>\n",
       "    </tr>\n",
       "    <tr>\n",
       "      <th>38</th>\n",
       "      <td>5500459</td>\n",
       "      <td>20000.0</td>\n",
       "      <td>1</td>\n",
       "      <td>31790</td>\n",
       "      <td>12</td>\n",
       "      <td>5490.00</td>\n",
       "      <td>28996</td>\n",
       "      <td>25</td>\n",
       "      <td>20000.0</td>\n",
       "      <td>28996.00</td>\n",
       "      <td>...</td>\n",
       "      <td>0.0</td>\n",
       "      <td>7</td>\n",
       "      <td>0.0</td>\n",
       "      <td>0</td>\n",
       "      <td>3</td>\n",
       "      <td>2</td>\n",
       "      <td>20000</td>\n",
       "      <td>53</td>\n",
       "      <td>0.0</td>\n",
       "      <td>1</td>\n",
       "    </tr>\n",
       "  </tbody>\n",
       "</table>\n",
       "<p>10 rows × 25 columns</p>\n",
       "</div>"
      ],
      "text/plain": [
       "    order_id  cred_sum_cc_all  mfo_inqs_count_month  all_closed_creds_sum_all  \\\n",
       "8    5499365          50000.0                     2                     58500   \n",
       "9    5499397          44000.0                     1                    367842   \n",
       "10   5499407              0.0                     1                     44500   \n",
       "12   5499448          81550.0                    11                    231604   \n",
       "17   5499715          45001.0                     0                    107584   \n",
       "18   5499796          35000.0                     2                     48437   \n",
       "27   5500052           3129.0                     1                     53700   \n",
       "31   5500284         114120.0                     0                    400884   \n",
       "35   5500368         764700.0                     0                   1320410   \n",
       "38   5500459          20000.0                     1                     31790   \n",
       "\n",
       "    bank_inqs_count_quarter  cred_max_overdue_max_ly  \\\n",
       "8                        14                     0.00   \n",
       "9                         3                 24000.00   \n",
       "10                        0                     0.00   \n",
       "12                        5                     0.00   \n",
       "17                        0                  5975.24   \n",
       "18                        8                     0.00   \n",
       "27                        0                     0.00   \n",
       "31                        9                     0.00   \n",
       "35                        2                     0.00   \n",
       "38                       12                  5490.00   \n",
       "\n",
       "    all_active_creds_sum_all  mfo_last_days_all  cred_sum_cc_ly  \\\n",
       "8                      38000                 23         50000.0   \n",
       "9                      74695                  8             0.0   \n",
       "10                      5000                 29             0.0   \n",
       "12                    272086                 16             0.0   \n",
       "17                    267484               9999             1.0   \n",
       "18                         0                 48         35000.0   \n",
       "27                     66953                 14             0.0   \n",
       "31                     57200                  2             0.0   \n",
       "35                     99300                  7        200000.0   \n",
       "38                     28996                 25         20000.0   \n",
       "\n",
       "    cred_sum_debt_all_all  ...  cred_max_overdue_max_3lm  mfo_closed_count_ly  \\\n",
       "8                38000.00  ...                       0.0                    5   \n",
       "9                75295.00  ...                       0.0                   11   \n",
       "10                5000.00  ...                       0.0                    7   \n",
       "12              217493.70  ...                       0.0                    4   \n",
       "17              244351.87  ...                       0.0                    0   \n",
       "18                   0.00  ...                       0.0                    3   \n",
       "27               55164.40  ...                       0.0                    7   \n",
       "31               56992.00  ...                       0.0                   20   \n",
       "35               99300.00  ...                       0.0                    6   \n",
       "38               28996.00  ...                       0.0                    7   \n",
       "\n",
       "    cred_sum_overdue_cc_all  count_overdue_all_3lm  all_creds_count_lm  \\\n",
       "8                       0.0                      0                   2   \n",
       "9                       0.0                      0                   3   \n",
       "10                      0.0                      0                   1   \n",
       "12                      0.0                      0                   4   \n",
       "17                      0.0                      0                   0   \n",
       "18                      0.0                      0                   0   \n",
       "27                      0.0                      0                   1   \n",
       "31                      0.0                      0                   3   \n",
       "35                      0.0                      0                   1   \n",
       "38                      0.0                      0                   3   \n",
       "\n",
       "    work_code  month_income  region  bad  approved  \n",
       "8           1         35000       4  0.0         1  \n",
       "9           2         35000      61  1.0         1  \n",
       "10          4         50000      32  0.0         1  \n",
       "12          5         35000       1  1.0         1  \n",
       "17          5         35000      78  0.0         1  \n",
       "18          3         60000      39  0.0         1  \n",
       "27          3         20000      46  1.0         1  \n",
       "31          2         50000      71  0.0         1  \n",
       "35          1         50000      46  0.0         1  \n",
       "38          2         20000      53  0.0         1  \n",
       "\n",
       "[10 rows x 25 columns]"
      ]
     },
     "execution_count": 2,
     "metadata": {},
     "output_type": "execute_result"
    }
   ],
   "source": [
    "import pandas as pd\n",
    "import seaborn as sns\n",
    "import matplotlib.pyplot as plt\n",
    "import numpy as np\n",
    "from scipy.stats import gaussian_kde\n",
    "\n",
    "df = pd.read_csv('./data/train.csv')\n",
    "\n",
    "df_nan_bad = df.loc[df.bad.isna()]\n",
    "\n",
    "df_notnan_bad = df.drop(index=df_nan_bad.index)\n",
    "\n",
    "cols = list(set(df.columns) - set(['bad', 'approved']))\n",
    "print(cols)\n",
    "df_notnan_bad.head(10)"
   ]
  },
  {
   "cell_type": "code",
   "execution_count": 19,
   "metadata": {},
   "outputs": [
    {
     "name": "stdout",
     "output_type": "stream",
     "text": [
      "For work_code the difference between KDEs is [0.63903017]\n",
      "For all_creds_count_all the difference between KDEs is [0.00758803]\n",
      "For delay_more_sum_all the difference between KDEs is [0.01329652]\n",
      "For mfo_cred_mean_sum_3lm the difference between KDEs is [2.90031477e-08]\n",
      "For all_closed_creds_sum_ly the difference between KDEs is [1.36646474e-09]\n",
      "For cred_sum_cc_ly the difference between KDEs is [6.87854658e-09]\n",
      "For region the difference between KDEs is [0.00017865]\n",
      "For cred_max_overdue_max_ly the difference between KDEs is [5.31538571e-10]\n",
      "For cred_sum_cc_all the difference between KDEs is [2.54221097e-11]\n",
      "For mfo_last_days_all the difference between KDEs is [4.94387729e-07]\n",
      "For order_id the difference between KDEs is [1.12230567e-11]\n",
      "For all_closed_creds_sum_all the difference between KDEs is [9.99962914e-13]\n",
      "For all_active_creds_sum_all the difference between KDEs is [7.91498105e-12]\n",
      "For cred_max_overdue_max_3lm the difference between KDEs is [2.48247542e-09]\n",
      "For cred_day_overdue_all_sum_all the difference between KDEs is [4.14286478e-06]\n",
      "For cred_sum_overdue_cc_all the difference between KDEs is [5.50783472e-10]\n",
      "For cred_sum_debt_all_all the difference between KDEs is [3.9949794e-11]\n",
      "For mfo_closed_count_ly the difference between KDEs is [0.10392269]\n",
      "For bank_inqs_count_quarter the difference between KDEs is [0.10177316]\n",
      "For mfo_inqs_count_month the difference between KDEs is [0.45883519]\n",
      "For count_overdue_all_3lm the difference between KDEs is [3.4350669]\n",
      "For month_income the difference between KDEs is [8.20554625e-09]\n",
      "For all_creds_count_lm the difference between KDEs is [4.47674652]\n"
     ]
    }
   ],
   "source": [
    "df_differences = []\n",
    "\n",
    "for col in cols:\n",
    "    min_nan, max_nan = df_nan_bad[col].min(), df_nan_bad[col].max()\n",
    "    min_a, max_a = df[col].min(), df[col].max()\n",
    "    x = np.linspace(min_a, max_a, num=1000)\n",
    "    kde_nan = gaussian_kde(df_nan_bad[col])\n",
    "    kde_a = gaussian_kde(df[col])\n",
    "\n",
    "    diff = 0\n",
    "    for frag in x:\n",
    "        diff += (kde_nan(frag) - kde_a(frag)) ** 2\n",
    "    \n",
    "    df_differences.append({'property': col, 'diff': diff})\n",
    "    print(f'For {col} the difference between KDEs is {diff}')"
   ]
  },
  {
   "cell_type": "code",
   "execution_count": 20,
   "metadata": {},
   "outputs": [
    {
     "data": {
      "text/html": [
       "<div>\n",
       "<style scoped>\n",
       "    .dataframe tbody tr th:only-of-type {\n",
       "        vertical-align: middle;\n",
       "    }\n",
       "\n",
       "    .dataframe tbody tr th {\n",
       "        vertical-align: top;\n",
       "    }\n",
       "\n",
       "    .dataframe thead th {\n",
       "        text-align: right;\n",
       "    }\n",
       "</style>\n",
       "<table border=\"1\" class=\"dataframe\">\n",
       "  <thead>\n",
       "    <tr style=\"text-align: right;\">\n",
       "      <th></th>\n",
       "      <th>property</th>\n",
       "      <th>diff</th>\n",
       "    </tr>\n",
       "  </thead>\n",
       "  <tbody>\n",
       "    <tr>\n",
       "      <th>22</th>\n",
       "      <td>all_creds_count_lm</td>\n",
       "      <td>[4.476746522889357]</td>\n",
       "    </tr>\n",
       "    <tr>\n",
       "      <th>20</th>\n",
       "      <td>count_overdue_all_3lm</td>\n",
       "      <td>[3.4350669007912042]</td>\n",
       "    </tr>\n",
       "    <tr>\n",
       "      <th>0</th>\n",
       "      <td>work_code</td>\n",
       "      <td>[0.6390301727092985]</td>\n",
       "    </tr>\n",
       "    <tr>\n",
       "      <th>19</th>\n",
       "      <td>mfo_inqs_count_month</td>\n",
       "      <td>[0.4588351927309118]</td>\n",
       "    </tr>\n",
       "    <tr>\n",
       "      <th>17</th>\n",
       "      <td>mfo_closed_count_ly</td>\n",
       "      <td>[0.10392269390110428]</td>\n",
       "    </tr>\n",
       "    <tr>\n",
       "      <th>18</th>\n",
       "      <td>bank_inqs_count_quarter</td>\n",
       "      <td>[0.10177316390800521]</td>\n",
       "    </tr>\n",
       "    <tr>\n",
       "      <th>2</th>\n",
       "      <td>delay_more_sum_all</td>\n",
       "      <td>[0.013296517481290467]</td>\n",
       "    </tr>\n",
       "    <tr>\n",
       "      <th>1</th>\n",
       "      <td>all_creds_count_all</td>\n",
       "      <td>[0.007588033094576834]</td>\n",
       "    </tr>\n",
       "    <tr>\n",
       "      <th>6</th>\n",
       "      <td>region</td>\n",
       "      <td>[0.00017865225891619066]</td>\n",
       "    </tr>\n",
       "    <tr>\n",
       "      <th>14</th>\n",
       "      <td>cred_day_overdue_all_sum_all</td>\n",
       "      <td>[4.1428647755295535e-06]</td>\n",
       "    </tr>\n",
       "  </tbody>\n",
       "</table>\n",
       "</div>"
      ],
      "text/plain": [
       "                        property                      diff\n",
       "22            all_creds_count_lm       [4.476746522889357]\n",
       "20         count_overdue_all_3lm      [3.4350669007912042]\n",
       "0                      work_code      [0.6390301727092985]\n",
       "19          mfo_inqs_count_month      [0.4588351927309118]\n",
       "17           mfo_closed_count_ly     [0.10392269390110428]\n",
       "18       bank_inqs_count_quarter     [0.10177316390800521]\n",
       "2             delay_more_sum_all    [0.013296517481290467]\n",
       "1            all_creds_count_all    [0.007588033094576834]\n",
       "6                         region  [0.00017865225891619066]\n",
       "14  cred_day_overdue_all_sum_all  [4.1428647755295535e-06]"
      ]
     },
     "execution_count": 20,
     "metadata": {},
     "output_type": "execute_result"
    }
   ],
   "source": [
    "df_differences = pd.DataFrame(df_differences)\n",
    "df_differences.sort_values(by='diff', ascending=False).head(10)"
   ]
  },
  {
   "cell_type": "code",
   "execution_count": 25,
   "metadata": {},
   "outputs": [
    {
     "name": "stdout",
     "output_type": "stream",
     "text": [
      "For work_code the difference between KDEs is [2.6267341e-08]\n",
      "For all_creds_count_all the difference between KDEs is [8.9981944e-11]\n",
      "For delay_more_sum_all the difference between KDEs is [8.13821374e-11]\n",
      "For mfo_cred_mean_sum_3lm the difference between KDEs is [2.99116454e-16]\n",
      "For all_closed_creds_sum_ly the difference between KDEs is [8.17284429e-18]\n",
      "For cred_sum_cc_ly the difference between KDEs is [5.7965678e-17]\n",
      "For region the difference between KDEs is [3.74411527e-11]\n",
      "For cred_max_overdue_max_ly the difference between KDEs is [4.63311205e-18]\n",
      "For cred_sum_cc_all the difference between KDEs is [9.00548953e-19]\n",
      "For mfo_last_days_all the difference between KDEs is [4.62957973e-15]\n",
      "For order_id the difference between KDEs is [3.62961979e-19]\n",
      "For all_closed_creds_sum_all the difference between KDEs is [3.91437595e-20]\n",
      "For all_active_creds_sum_all the difference between KDEs is [1.66796104e-19]\n",
      "For cred_max_overdue_max_3lm the difference between KDEs is [6.67177077e-17]\n",
      "For cred_day_overdue_all_sum_all the difference between KDEs is [1.37312834e-14]\n",
      "For cred_sum_overdue_cc_all the difference between KDEs is [1.90605436e-18]\n",
      "For cred_sum_debt_all_all the difference between KDEs is [4.17379421e-19]\n",
      "For mfo_closed_count_ly the difference between KDEs is [7.23268142e-10]\n",
      "For bank_inqs_count_quarter the difference between KDEs is [1.43370552e-09]\n",
      "For mfo_inqs_count_month the difference between KDEs is [7.84799954e-09]\n",
      "For count_overdue_all_3lm the difference between KDEs is [4.84314625e-08]\n",
      "For month_income the difference between KDEs is [2.19045223e-16]\n",
      "For all_creds_count_lm the difference between KDEs is [2.56264858e-08]\n"
     ]
    }
   ],
   "source": [
    "df_differences = []\n",
    "\n",
    "for col in cols:\n",
    "    min_nan, max_nan = df_nan_bad[col].min(), df_nan_bad[col].max()\n",
    "    min_a, max_a = df[col].min(), df[col].max()\n",
    "    x = np.linspace(min_a, max_a, num=1000)\n",
    "    kde_nan = gaussian_kde(df_nan_bad[col])\n",
    "    kde_a = gaussian_kde(df[col])\n",
    "\n",
    "    diff = 0\n",
    "    for frag in x:\n",
    "        diff += (kde_nan(frag)/df_nan_bad.shape[0] - kde_a(frag)/df.shape[0]) ** 2\n",
    "    \n",
    "    df_differences.append({'property': col, 'diff': diff})\n",
    "    print(f'For {col} the difference between KDEs is {diff}')"
   ]
  },
  {
   "cell_type": "code",
   "execution_count": 26,
   "metadata": {},
   "outputs": [
    {
     "data": {
      "text/html": [
       "<div>\n",
       "<style scoped>\n",
       "    .dataframe tbody tr th:only-of-type {\n",
       "        vertical-align: middle;\n",
       "    }\n",
       "\n",
       "    .dataframe tbody tr th {\n",
       "        vertical-align: top;\n",
       "    }\n",
       "\n",
       "    .dataframe thead th {\n",
       "        text-align: right;\n",
       "    }\n",
       "</style>\n",
       "<table border=\"1\" class=\"dataframe\">\n",
       "  <thead>\n",
       "    <tr style=\"text-align: right;\">\n",
       "      <th></th>\n",
       "      <th>property</th>\n",
       "      <th>diff</th>\n",
       "    </tr>\n",
       "  </thead>\n",
       "  <tbody>\n",
       "    <tr>\n",
       "      <th>20</th>\n",
       "      <td>count_overdue_all_3lm</td>\n",
       "      <td>[4.84314625002347e-08]</td>\n",
       "    </tr>\n",
       "    <tr>\n",
       "      <th>0</th>\n",
       "      <td>work_code</td>\n",
       "      <td>[2.626734099926755e-08]</td>\n",
       "    </tr>\n",
       "    <tr>\n",
       "      <th>22</th>\n",
       "      <td>all_creds_count_lm</td>\n",
       "      <td>[2.562648582634192e-08]</td>\n",
       "    </tr>\n",
       "    <tr>\n",
       "      <th>19</th>\n",
       "      <td>mfo_inqs_count_month</td>\n",
       "      <td>[7.847999544827386e-09]</td>\n",
       "    </tr>\n",
       "    <tr>\n",
       "      <th>18</th>\n",
       "      <td>bank_inqs_count_quarter</td>\n",
       "      <td>[1.433705518984148e-09]</td>\n",
       "    </tr>\n",
       "    <tr>\n",
       "      <th>17</th>\n",
       "      <td>mfo_closed_count_ly</td>\n",
       "      <td>[7.232681421003022e-10]</td>\n",
       "    </tr>\n",
       "    <tr>\n",
       "      <th>1</th>\n",
       "      <td>all_creds_count_all</td>\n",
       "      <td>[8.998194396388569e-11]</td>\n",
       "    </tr>\n",
       "    <tr>\n",
       "      <th>2</th>\n",
       "      <td>delay_more_sum_all</td>\n",
       "      <td>[8.138213737305152e-11]</td>\n",
       "    </tr>\n",
       "    <tr>\n",
       "      <th>6</th>\n",
       "      <td>region</td>\n",
       "      <td>[3.744115271483859e-11]</td>\n",
       "    </tr>\n",
       "    <tr>\n",
       "      <th>14</th>\n",
       "      <td>cred_day_overdue_all_sum_all</td>\n",
       "      <td>[1.3731283437127658e-14]</td>\n",
       "    </tr>\n",
       "  </tbody>\n",
       "</table>\n",
       "</div>"
      ],
      "text/plain": [
       "                        property                      diff\n",
       "20         count_overdue_all_3lm    [4.84314625002347e-08]\n",
       "0                      work_code   [2.626734099926755e-08]\n",
       "22            all_creds_count_lm   [2.562648582634192e-08]\n",
       "19          mfo_inqs_count_month   [7.847999544827386e-09]\n",
       "18       bank_inqs_count_quarter   [1.433705518984148e-09]\n",
       "17           mfo_closed_count_ly   [7.232681421003022e-10]\n",
       "1            all_creds_count_all   [8.998194396388569e-11]\n",
       "2             delay_more_sum_all   [8.138213737305152e-11]\n",
       "6                         region   [3.744115271483859e-11]\n",
       "14  cred_day_overdue_all_sum_all  [1.3731283437127658e-14]"
      ]
     },
     "execution_count": 26,
     "metadata": {},
     "output_type": "execute_result"
    }
   ],
   "source": [
    "df_differences = pd.DataFrame(df_differences)\n",
    "df_differences.sort_values(by='diff', ascending=False).head(10)"
   ]
  },
  {
   "cell_type": "code",
   "execution_count": 24,
   "metadata": {},
   "outputs": [
    {
     "data": {
      "text/plain": [
       "array(['count_overdue_all_3lm', 'work_code', 'all_creds_count_lm',\n",
       "       'mfo_inqs_count_month', 'bank_inqs_count_quarter',\n",
       "       'mfo_closed_count_ly', 'all_creds_count_all', 'delay_more_sum_all',\n",
       "       'region', 'cred_day_overdue_all_sum_all'], dtype=object)"
      ]
     },
     "execution_count": 24,
     "metadata": {},
     "output_type": "execute_result"
    }
   ],
   "source": [
    "df_differences.sort_values(by='diff', ascending=False).head(10).property.values"
   ]
  },
  {
   "cell_type": "code",
   "execution_count": 5,
   "metadata": {},
   "outputs": [
    {
     "data": {
      "text/plain": [
       "<function matplotlib.pyplot.show(close=None, block=None)>"
      ]
     },
     "execution_count": 5,
     "metadata": {},
     "output_type": "execute_result"
    },
    {
     "data": {
      "image/png": "[encoded data removed]",
      "text/plain": [
       "<Figure size 432x288 with 1 Axes>"
      ]
     },
     "metadata": {
      "needs_background": "light"
     },
     "output_type": "display_data"
    }
   ],
   "source": [
    "sns.distplot(df_nan_bad['all_creds_count_lm'], label='nans')\n",
    "sns.distplot(df['all_creds_count_lm'], label='all')\n",
    "plt.title('all_creds_count_lm')\n",
    "plt.legend()\n",
    "plt.show"
   ]
  },
  {
   "cell_type": "code",
   "execution_count": 6,
   "metadata": {},
   "outputs": [
    {
     "data": {
      "text/plain": [
       "<function matplotlib.pyplot.show(close=None, block=None)>"
      ]
     },
     "execution_count": 6,
     "metadata": {},
     "output_type": "execute_result"
    },
    {
     "data": {
      "image/png": "[encoded data removed]",
      "text/plain": [
       "<Figure size 432x288 with 1 Axes>"
      ]
     },
     "metadata": {
      "needs_background": "light"
     },
     "output_type": "display_data"
    }
   ],
   "source": [
    "sns.distplot(df_nan_bad['count_overdue_all_3lm'], label='nans')\n",
    "sns.distplot(df['count_overdue_all_3lm'], label='alls')\n",
    "plt.title('count_overdue_all_3lm')\n",
    "plt.legend()\n",
    "plt.show"
   ]
  },
  {
   "cell_type": "code",
   "execution_count": 7,
   "metadata": {},
   "outputs": [
    {
     "data": {
      "text/plain": [
       "<function matplotlib.pyplot.show(close=None, block=None)>"
      ]
     },
     "execution_count": 7,
     "metadata": {},
     "output_type": "execute_result"
    },
    {
     "data": {
      "image/png": "[encoded data removed]",
      "text/plain": [
       "<Figure size 432x288 with 1 Axes>"
      ]
     },
     "metadata": {
      "needs_background": "light"
     },
     "output_type": "display_data"
    }
   ],
   "source": [
    "sns.distplot(df_nan_bad['work_code'], label='nans')\n",
    "sns.distplot(df['work_code'], label='all')\n",
    "plt.title('work_code')\n",
    "plt.legend()\n",
    "plt.show"
   ]
  },
  {
   "cell_type": "code",
   "execution_count": 8,
   "metadata": {},
   "outputs": [
    {
     "data": {
      "text/plain": [
       "<function matplotlib.pyplot.show(close=None, block=None)>"
      ]
     },
     "execution_count": 8,
     "metadata": {},
     "output_type": "execute_result"
    },
    {
     "data": {
      "image/png": "[encoded data removed]",
      "text/plain": [
       "<Figure size 432x288 with 1 Axes>"
      ]
     },
     "metadata": {
      "needs_background": "light"
     },
     "output_type": "display_data"
    }
   ],
   "source": [
    "sns.distplot(df_nan_bad['mfo_inqs_count_month'], label='nans')\n",
    "sns.distplot(df['mfo_inqs_count_month'], label='all')\n",
    "plt.title('mfo_inqs_count_month')\n",
    "plt.legend()\n",
    "plt.show"
   ]
  },
  {
   "cell_type": "code",
   "execution_count": 9,
   "metadata": {},
   "outputs": [
    {
     "data": {
      "text/plain": [
       "<function matplotlib.pyplot.show(close=None, block=None)>"
      ]
     },
     "execution_count": 9,
     "metadata": {},
     "output_type": "execute_result"
    },
    {
     "data": {
      "image/png": "[encoded data removed]",
      "text/plain": [
       "<Figure size 432x288 with 1 Axes>"
      ]
     },
     "metadata": {
      "needs_background": "light"
     },
     "output_type": "display_data"
    }
   ],
   "source": [
    "sns.distplot(df_nan_bad['mfo_closed_count_ly'], label='nans')\n",
    "sns.distplot(df['mfo_closed_count_ly'], label='all')\n",
    "plt.title('mfo_closed_count_ly')\n",
    "plt.legend()\n",
    "plt.show"
   ]
  }
 ],
 "metadata": {
  "interpreter": {
   "hash": "dd62257995b4f38049102e5151440382dc2c6b9154caaa6126a7ca6433e5722d"
  },
  "kernelspec": {
   "display_name": "Python 3.9.9 64-bit ('venv': venv)",
   "language": "python",
   "name": "python3"
  },
  "language_info": {
   "codemirror_mode": {
    "name": "ipython",
    "version": 3
   },
   "file_extension": ".py",
   "mimetype": "text/x-python",
   "name": "python",
   "nbconvert_exporter": "python",
   "pygments_lexer": "ipython3",
   "version": "3.9.9"
  },
  "orig_nbformat": 4
 },
 "nbformat": 4,
 "nbformat_minor": 2
}
