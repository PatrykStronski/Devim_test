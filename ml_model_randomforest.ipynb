{
 "cells": [
  {
   "cell_type": "code",
   "execution_count": 21,
   "metadata": {},
   "outputs": [],
   "source": [
    "import pandas as pd\n",
    "from sklearn.ensemble import RandomForestClassifier\n",
    "import math\n",
    "\n",
    "df_train = pd.read_csv('./data/train.csv')\n",
    "df_test = pd.read_csv('./data/test.csv')\n",
    "\n",
    "train_target = df_train.bad.apply(lambda b: math.isnan(b))\n",
    "test_target = df_test.bad.apply(lambda b: math.isnan(b))"
   ]
  },
  {
   "cell_type": "code",
   "execution_count": 22,
   "metadata": {},
   "outputs": [
    {
     "data": {
      "text/plain": [
       "'The Correct is 0.7577996715927751'"
      ]
     },
     "execution_count": 22,
     "metadata": {},
     "output_type": "execute_result"
    }
   ],
   "source": [
    "# 76% result - GOOD\n",
    "df_pred = df_train[['all_creds_count_lm', 'count_overdue_all_3lm', 'work_code', 'mfo_inqs_count_month', 'mfo_closed_count_ly']].dropna()\n",
    "df_pred_test = df_test[['all_creds_count_lm', 'count_overdue_all_3lm', 'work_code', 'mfo_inqs_count_month', 'mfo_closed_count_ly']].dropna()\n",
    "\n",
    "rf = RandomForestClassifier(max_features=5, n_estimators=300)\n",
    "\n",
    "rf.fit(df_pred, train_target)\n",
    "Y_pred = rf.predict(df_pred_test)\n",
    "\n",
    "corr = 0.0\n",
    "for i in range(0, df_pred_test.shape[0]):\n",
    "    if Y_pred[i] == test_target.iloc[i]:\n",
    "        corr += 1.0\n",
    "\n",
    "f'The Correct is {corr/df_pred_test.shape[0]}'"
   ]
  },
  {
   "cell_type": "code",
   "execution_count": 23,
   "metadata": {},
   "outputs": [],
   "source": [
    "#VERY BAD RESULT, never use all\n",
    "\n",
    "df_pred_all = df_train[['count_overdue_all_3lm', 'mfo_last_days_all', 'cred_sum_cc_all', 'cred_day_overdue_all_sum_all', 'all_active_creds_sum_all', 'cred_sum_debt_all_all', 'mfo_cred_mean_sum_3lm', 'all_closed_creds_sum_all', 'delay_more_sum_all', 'order_id', 'cred_max_overdue_max_3lm', 'all_closed_creds_sum_ly', 'region', 'month_income', 'mfo_closed_count_ly', 'cred_sum_cc_ly', 'all_creds_count_all', 'bank_inqs_count_quarter', 'mfo_inqs_count_month', 'cred_max_overdue_max_ly', 'cred_sum_overdue_cc_all', 'all_creds_count_lm', 'work_code']].dropna()\n",
    "df_pred_test_all = df_test[['count_overdue_all_3lm', 'mfo_last_days_all', 'cred_sum_cc_all', 'cred_day_overdue_all_sum_all', 'all_active_creds_sum_all', 'cred_sum_debt_all_all', 'mfo_cred_mean_sum_3lm', 'all_closed_creds_sum_all', 'delay_more_sum_all', 'order_id', 'cred_max_overdue_max_3lm', 'all_closed_creds_sum_ly', 'region', 'month_income', 'mfo_closed_count_ly', 'cred_sum_cc_ly', 'all_creds_count_all', 'bank_inqs_count_quarter', 'mfo_inqs_count_month', 'cred_max_overdue_max_ly', 'cred_sum_overdue_cc_all', 'all_creds_count_lm', 'work_code']].dropna()\n",
    "\n",
    "rf_all = RandomForestClassifier(max_features=10, n_estimators=1000)"
   ]
  },
  {
   "cell_type": "code",
   "execution_count": 24,
   "metadata": {},
   "outputs": [
    {
     "data": {
      "text/plain": [
       "'The Correct is 0.0'"
      ]
     },
     "execution_count": 24,
     "metadata": {},
     "output_type": "execute_result"
    }
   ],
   "source": [
    "rf_all.fit(df_pred_all, train_target)\n",
    "Y_pred_all = rf_all.predict(df_pred_test_all)\n",
    "\n",
    "cor_all = 0.0\n",
    "for i in range(0, df_pred_test_all.shape[0]):\n",
    "    if Y_pred_all[i] == test_target.iloc[i]:\n",
    "        corr += 1.0\n",
    "\n",
    "f'The Correct is {cor_all/df_pred_test_all.shape[0]}'"
   ]
  },
  {
   "cell_type": "code",
   "execution_count": 25,
   "metadata": {},
   "outputs": [],
   "source": [
    "def bad_def(bad) -> int:\n",
    "    if math.isnan(bad):\n",
    "        return 0\n",
    "    return int(bad+1)\n",
    "\n",
    "train_target_ext = df_train.bad.apply(bad_def)\n",
    "test_target_ext = df_test.bad.apply(bad_def)"
   ]
  },
  {
   "cell_type": "code",
   "execution_count": 26,
   "metadata": {},
   "outputs": [
    {
     "data": {
      "text/plain": [
       "'The Correct is 0.7118226600985221'"
      ]
     },
     "execution_count": 26,
     "metadata": {},
     "output_type": "execute_result"
    }
   ],
   "source": [
    "# 71% very good\n",
    "\n",
    "df_pred = df_train[['all_creds_count_lm', 'count_overdue_all_3lm', 'work_code', 'mfo_inqs_count_month', 'mfo_closed_count_ly']].dropna()\n",
    "df_pred_test = df_test[['all_creds_count_lm', 'count_overdue_all_3lm', 'work_code', 'mfo_inqs_count_month', 'mfo_closed_count_ly']].dropna()\n",
    "\n",
    "rf = RandomForestClassifier(max_features=5, n_estimators=300)\n",
    "\n",
    "rf.fit(df_pred, train_target_ext)\n",
    "Y_pred = rf.predict(df_pred_test)\n",
    "\n",
    "corr = 0.0\n",
    "for i in range(0, df_pred_test.shape[0]):\n",
    "    if Y_pred[i] == test_target_ext.iloc[i]:\n",
    "        corr += 1.0\n",
    "\n",
    "f'The Correct is {corr/df_pred_test.shape[0]}'"
   ]
  }
 ],
 "metadata": {
  "interpreter": {
   "hash": "dd62257995b4f38049102e5151440382dc2c6b9154caaa6126a7ca6433e5722d"
  },
  "kernelspec": {
   "display_name": "Python 3.9.9 64-bit ('venv': venv)",
   "language": "python",
   "name": "python3"
  },
  "language_info": {
   "codemirror_mode": {
    "name": "ipython",
    "version": 3
   },
   "file_extension": ".py",
   "mimetype": "text/x-python",
   "name": "python",
   "nbconvert_exporter": "python",
   "pygments_lexer": "ipython3",
   "version": "3.9.9"
  },
  "orig_nbformat": 4
 },
 "nbformat": 4,
 "nbformat_minor": 2
}
