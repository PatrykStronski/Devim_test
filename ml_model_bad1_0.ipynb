{
 "cells": [
  {
   "cell_type": "code",
   "execution_count": 1,
   "metadata": {},
   "outputs": [],
   "source": [
    "import pandas as pd\n",
    "from sklearn.ensemble import RandomForestClassifier\n",
    "from sklearn.neighbors import KNeighborsClassifier\n",
    "import math\n",
    "\n",
    "df_train = pd.read_csv('./data/train.csv')\n",
    "df_train = df_train.loc[df_train.bad.notna()]\n",
    "df_test = pd.read_csv('./data/test.csv')\n",
    "df_test = df_test.loc[df_test.bad.notna()]\n",
    "\n",
    "vars = ['count_overdue_all_3lm', 'work_code', 'mfo_inqs_count_month',\n",
    "       'all_creds_count_lm', 'delay_more_sum_all']\n",
    "\n",
    "df_pred = df_train[vars].dropna()\n",
    "df_pred_test = df_test[vars].dropna()\n",
    "\n",
    "train_target = df_train.bad\n",
    "test_target = df_test.bad\n"
   ]
  },
  {
   "cell_type": "code",
   "execution_count": 2,
   "metadata": {},
   "outputs": [
    {
     "data": {
      "text/plain": [
       "'The Correct is 0.7265415549597856'"
      ]
     },
     "execution_count": 2,
     "metadata": {},
     "output_type": "execute_result"
    }
   ],
   "source": [
    "knn = KNeighborsClassifier(n_neighbors=30)\n",
    "\n",
    "knn.fit(df_pred, train_target)\n",
    "Y_pred = knn.predict(df_pred_test)\n",
    "\n",
    "corr = 0.0\n",
    "for i in range(0, df_pred_test.shape[0]):\n",
    "    if Y_pred[i] == test_target.iloc[i]:\n",
    "        corr += 1.0\n",
    "\n",
    "f'The Correct is {corr/df_pred_test.shape[0]}'"
   ]
  },
  {
   "cell_type": "code",
   "execution_count": 6,
   "metadata": {},
   "outputs": [
    {
     "data": {
      "text/plain": [
       "'The Correct is 0.6916890080428955'"
      ]
     },
     "execution_count": 6,
     "metadata": {},
     "output_type": "execute_result"
    }
   ],
   "source": [
    "df_pred = df_train[vars].dropna()\n",
    "df_pred_test = df_test[vars].dropna()\n",
    "\n",
    "rf = RandomForestClassifier(max_features=5, n_estimators=200)\n",
    "\n",
    "rf.fit(df_pred, train_target)\n",
    "Y_pred = rf.predict(df_pred_test)\n",
    "\n",
    "corr = 0.0\n",
    "for i in range(0, df_pred_test.shape[0]):\n",
    "    if Y_pred[i] == test_target.iloc[i]:\n",
    "        corr += 1.0\n",
    "\n",
    "f'The Correct is {corr/df_pred_test.shape[0]}'"
   ]
  }
 ],
 "metadata": {
  "interpreter": {
   "hash": "dd62257995b4f38049102e5151440382dc2c6b9154caaa6126a7ca6433e5722d"
  },
  "kernelspec": {
   "display_name": "Python 3.9.9 64-bit ('venv': venv)",
   "language": "python",
   "name": "python3"
  },
  "language_info": {
   "codemirror_mode": {
    "name": "ipython",
    "version": 3
   },
   "file_extension": ".py",
   "mimetype": "text/x-python",
   "name": "python",
   "nbconvert_exporter": "python",
   "pygments_lexer": "ipython3",
   "version": "3.9.9"
  },
  "orig_nbformat": 4
 },
 "nbformat": 4,
 "nbformat_minor": 2
}
