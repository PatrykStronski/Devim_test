{
 "cells": [
  {
   "cell_type": "code",
   "execution_count": 9,
   "metadata": {},
   "outputs": [],
   "source": [
    "import pandas as pd\n",
    "from sklearn.neighbors import KNeighborsClassifier\n",
    "import math\n",
    "\n",
    "def bad_def(bad) -> int:\n",
    "    if math.isnan(bad):\n",
    "        return 0\n",
    "    return int(bad+1)\n",
    "\n",
    "df_train = pd.read_csv('./data/train.csv')\n",
    "df_test = pd.read_csv('./data/test.csv')\n",
    "\n",
    "train_target_ext = df_train.bad.apply(bad_def)\n",
    "test_target_ext = df_test.bad.apply(bad_def)\n",
    "\n",
    "df_train = pd.read_csv('./data/train.csv')\n",
    "df_test = pd.read_csv('./data/test.csv')\n",
    "\n",
    "train_target = df_train.bad.apply(lambda b: math.isnan(b))\n",
    "test_target = df_test.bad.apply(lambda b: math.isnan(b))\n",
    "train_target_ext = df_train.bad.apply(bad_def)\n",
    "test_target_ext = df_test.bad.apply(bad_def)"
   ]
  },
  {
   "cell_type": "code",
   "execution_count": 10,
   "metadata": {},
   "outputs": [
    {
     "data": {
      "text/plain": [
       "'The Correct is 0.7610837438423645'"
      ]
     },
     "execution_count": 10,
     "metadata": {},
     "output_type": "execute_result"
    }
   ],
   "source": [
    "# 76% result - GOOD\n",
    "df_pred = df_train[['all_creds_count_lm', 'count_overdue_all_3lm', 'work_code', 'mfo_inqs_count_month', 'mfo_closed_count_ly']].dropna()\n",
    "df_pred_test = df_test[['all_creds_count_lm', 'count_overdue_all_3lm', 'work_code', 'mfo_inqs_count_month', 'mfo_closed_count_ly']].dropna()\n",
    "\n",
    "knn = KNeighborsClassifier(n_neighbors=15)\n",
    "\n",
    "knn.fit(df_pred, train_target)\n",
    "Y_pred = knn.predict(df_pred_test)\n",
    "\n",
    "corr = 0.0\n",
    "for i in range(0, df_pred_test.shape[0]):\n",
    "    if Y_pred[i] == test_target.iloc[i]:\n",
    "        corr += 1.0\n",
    "\n",
    "f'The Correct is {corr/df_pred_test.shape[0]}'"
   ]
  },
  {
   "cell_type": "code",
   "execution_count": 11,
   "metadata": {},
   "outputs": [
    {
     "data": {
      "text/plain": [
       "'The Correct is 0.729064039408867'"
      ]
     },
     "execution_count": 11,
     "metadata": {},
     "output_type": "execute_result"
    }
   ],
   "source": [
    "# 71% very good\n",
    "\n",
    "df_pred = df_train[['all_creds_count_lm', 'count_overdue_all_3lm', 'work_code', 'mfo_inqs_count_month', 'mfo_closed_count_ly']].dropna()\n",
    "df_pred_test = df_test[['all_creds_count_lm', 'count_overdue_all_3lm', 'work_code', 'mfo_inqs_count_month', 'mfo_closed_count_ly']].dropna()\n",
    "\n",
    "rf = KNeighborsClassifier(n_neighbors=15)\n",
    "\n",
    "rf.fit(df_pred, train_target_ext)\n",
    "Y_pred = rf.predict(df_pred_test)\n",
    "\n",
    "corr = 0.0\n",
    "for i in range(0, df_pred_test.shape[0]):\n",
    "    if Y_pred[i] == test_target_ext.iloc[i]:\n",
    "        corr += 1.0\n",
    "\n",
    "f'The Correct is {corr/df_pred_test.shape[0]}'"
   ]
  }
 ],
 "metadata": {
  "interpreter": {
   "hash": "dd62257995b4f38049102e5151440382dc2c6b9154caaa6126a7ca6433e5722d"
  },
  "kernelspec": {
   "display_name": "Python 3.9.9 64-bit ('venv': venv)",
   "language": "python",
   "name": "python3"
  },
  "language_info": {
   "codemirror_mode": {
    "name": "ipython",
    "version": 3
   },
   "file_extension": ".py",
   "mimetype": "text/x-python",
   "name": "python",
   "nbconvert_exporter": "python",
   "pygments_lexer": "ipython3",
   "version": "3.9.9"
  },
  "orig_nbformat": 4
 },
 "nbformat": 4,
 "nbformat_minor": 2
}
