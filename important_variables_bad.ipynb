{
 "cells": [
  {
   "cell_type": "code",
   "execution_count": 5,
   "metadata": {},
   "outputs": [],
   "source": [
    "import pandas as pd\n",
    "import seaborn as sns\n",
    "import matplotlib.pyplot as plt\n",
    "import numpy as np\n",
    "from scipy.stats import gaussian_kde\n",
    "\n",
    "df = pd.read_csv('./data/train.csv')\n",
    "\n",
    "df_bad_1 = df.loc[df.bad == 1.0]\n",
    "df_bad_0 = df.loc[df.bad == 0.0]\n",
    "\n",
    "cols = list(set(df.columns) - set(['bad', 'approved']))"
   ]
  },
  {
   "cell_type": "code",
   "execution_count": 6,
   "metadata": {},
   "outputs": [
    {
     "name": "stdout",
     "output_type": "stream",
     "text": [
      "For work_code the difference between KDEs is [2.20787265]\n",
      "For all_creds_count_all the difference between KDEs is [0.00030478]\n",
      "For order_id the difference between KDEs is [1.46956841e-11]\n",
      "For mfo_closed_count_ly the difference between KDEs is [0.00089655]\n",
      "For cred_max_overdue_max_3lm the difference between KDEs is [1.09367348e-09]\n",
      "For cred_sum_cc_all the difference between KDEs is [1.0182032e-12]\n",
      "For all_active_creds_sum_all the difference between KDEs is [1.10308821e-13]\n",
      "For count_overdue_all_3lm the difference between KDEs is [31.93635146]\n",
      "For mfo_inqs_count_month the difference between KDEs is [0.18231012]\n",
      "For cred_sum_cc_ly the difference between KDEs is [1.8542354e-10]\n",
      "For cred_max_overdue_max_ly the difference between KDEs is [1.30794494e-09]\n",
      "For mfo_cred_mean_sum_3lm the difference between KDEs is [1.9844963e-10]\n",
      "For all_creds_count_lm the difference between KDEs is [0.00979469]\n",
      "For cred_sum_debt_all_all the difference between KDEs is [1.29978567e-13]\n",
      "For all_closed_creds_sum_ly the difference between KDEs is [1.21536108e-11]\n",
      "For cred_day_overdue_all_sum_all the difference between KDEs is [2.20211891e-06]\n",
      "For delay_more_sum_all the difference between KDEs is [0.00619714]\n",
      "For cred_sum_overdue_cc_all the difference between KDEs is [7.92858112e-12]\n",
      "For region the difference between KDEs is [0.00205105]\n",
      "For mfo_last_days_all the difference between KDEs is [3.19402328e-07]\n",
      "For month_income the difference between KDEs is [1.33666744e-08]\n",
      "For all_closed_creds_sum_all the difference between KDEs is [3.82919886e-13]\n",
      "For bank_inqs_count_quarter the difference between KDEs is [0.00231189]\n"
     ]
    }
   ],
   "source": [
    "df_differences = []\n",
    "\n",
    "for col in cols:\n",
    "    min_a, max_a = df[col].min(), df[col].max()\n",
    "    x = np.linspace(min_a, max_a, num=1000)\n",
    "    kde_0 = gaussian_kde(df_bad_0[col])\n",
    "    kde_1 = gaussian_kde(df_bad_1[col])\n",
    "\n",
    "    diff = 0\n",
    "    for frag in x:\n",
    "        diff += (kde_0(frag) - kde_1(frag)) ** 2\n",
    "    \n",
    "    df_differences.append({'property': col, 'diff': diff})\n",
    "    print(f'For {col} the difference between KDEs is {diff}')"
   ]
  },
  {
   "cell_type": "code",
   "execution_count": 11,
   "metadata": {},
   "outputs": [
    {
     "data": {
      "text/html": [
       "<div>\n",
       "<style scoped>\n",
       "    .dataframe tbody tr th:only-of-type {\n",
       "        vertical-align: middle;\n",
       "    }\n",
       "\n",
       "    .dataframe tbody tr th {\n",
       "        vertical-align: top;\n",
       "    }\n",
       "\n",
       "    .dataframe thead th {\n",
       "        text-align: right;\n",
       "    }\n",
       "</style>\n",
       "<table border=\"1\" class=\"dataframe\">\n",
       "  <thead>\n",
       "    <tr style=\"text-align: right;\">\n",
       "      <th></th>\n",
       "      <th>property</th>\n",
       "      <th>diff</th>\n",
       "    </tr>\n",
       "  </thead>\n",
       "  <tbody>\n",
       "    <tr>\n",
       "      <th>7</th>\n",
       "      <td>count_overdue_all_3lm</td>\n",
       "      <td>[31.93635145827349]</td>\n",
       "    </tr>\n",
       "    <tr>\n",
       "      <th>0</th>\n",
       "      <td>work_code</td>\n",
       "      <td>[2.207872649930863]</td>\n",
       "    </tr>\n",
       "    <tr>\n",
       "      <th>8</th>\n",
       "      <td>mfo_inqs_count_month</td>\n",
       "      <td>[0.18231011893676602]</td>\n",
       "    </tr>\n",
       "    <tr>\n",
       "      <th>12</th>\n",
       "      <td>all_creds_count_lm</td>\n",
       "      <td>[0.009794685616235064]</td>\n",
       "    </tr>\n",
       "    <tr>\n",
       "      <th>16</th>\n",
       "      <td>delay_more_sum_all</td>\n",
       "      <td>[0.006197140932575153]</td>\n",
       "    </tr>\n",
       "    <tr>\n",
       "      <th>22</th>\n",
       "      <td>bank_inqs_count_quarter</td>\n",
       "      <td>[0.0023118862531269335]</td>\n",
       "    </tr>\n",
       "    <tr>\n",
       "      <th>18</th>\n",
       "      <td>region</td>\n",
       "      <td>[0.0020510453625171765]</td>\n",
       "    </tr>\n",
       "    <tr>\n",
       "      <th>3</th>\n",
       "      <td>mfo_closed_count_ly</td>\n",
       "      <td>[0.0008965534690499973]</td>\n",
       "    </tr>\n",
       "    <tr>\n",
       "      <th>1</th>\n",
       "      <td>all_creds_count_all</td>\n",
       "      <td>[0.00030477697797411547]</td>\n",
       "    </tr>\n",
       "    <tr>\n",
       "      <th>15</th>\n",
       "      <td>cred_day_overdue_all_sum_all</td>\n",
       "      <td>[2.2021189126064007e-06]</td>\n",
       "    </tr>\n",
       "  </tbody>\n",
       "</table>\n",
       "</div>"
      ],
      "text/plain": [
       "                        property                      diff\n",
       "7          count_overdue_all_3lm       [31.93635145827349]\n",
       "0                      work_code       [2.207872649930863]\n",
       "8           mfo_inqs_count_month     [0.18231011893676602]\n",
       "12            all_creds_count_lm    [0.009794685616235064]\n",
       "16            delay_more_sum_all    [0.006197140932575153]\n",
       "22       bank_inqs_count_quarter   [0.0023118862531269335]\n",
       "18                        region   [0.0020510453625171765]\n",
       "3            mfo_closed_count_ly   [0.0008965534690499973]\n",
       "1            all_creds_count_all  [0.00030477697797411547]\n",
       "15  cred_day_overdue_all_sum_all  [2.2021189126064007e-06]"
      ]
     },
     "execution_count": 11,
     "metadata": {},
     "output_type": "execute_result"
    }
   ],
   "source": [
    "df_differences = pd.DataFrame(df_differences)\n",
    "df_differences.sort_values(by='diff', ascending=False).head(10)"
   ]
  },
  {
   "cell_type": "code",
   "execution_count": 10,
   "metadata": {},
   "outputs": [
    {
     "data": {
      "text/plain": [
       "array(['count_overdue_all_3lm', 'work_code', 'mfo_inqs_count_month',\n",
       "       'all_creds_count_lm', 'delay_more_sum_all'], dtype=object)"
      ]
     },
     "execution_count": 10,
     "metadata": {},
     "output_type": "execute_result"
    }
   ],
   "source": [
    "df_differences.sort_values(by='diff', ascending=False).head(5).property.values"
   ]
  }
 ],
 "metadata": {
  "interpreter": {
   "hash": "dd62257995b4f38049102e5151440382dc2c6b9154caaa6126a7ca6433e5722d"
  },
  "kernelspec": {
   "display_name": "Python 3.9.9 64-bit ('venv': venv)",
   "language": "python",
   "name": "python3"
  },
  "language_info": {
   "codemirror_mode": {
    "name": "ipython",
    "version": 3
   },
   "file_extension": ".py",
   "mimetype": "text/x-python",
   "name": "python",
   "nbconvert_exporter": "python",
   "pygments_lexer": "ipython3",
   "version": "3.9.9"
  },
  "orig_nbformat": 4
 },
 "nbformat": 4,
 "nbformat_minor": 2
}
